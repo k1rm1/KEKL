{
 "cells": [
  {
   "cell_type": "markdown",
   "metadata": {},
   "source": [
    "### Оглавление\n",
    "1. [Задание 1](#Задание-№1)\n",
    "2. [Задание 2](#Задание-№2)\n",
    "3. [Задание 3](#Задание-№3)"
   ]
  },
  {
   "cell_type": "markdown",
   "metadata": {},
   "source": [
    "### Задание №1\n",
    "Массив A состоит из целых положительных чисел длин отрезков. Составьте из трех отрезков такой треугольник, чтобы его периметр был максимально возможным. Если невозможно составить треугольник с положительной площадью функция возвращает 0."
   ]
  },
  {
   "cell_type": "code",
   "execution_count": 1,
   "metadata": {
    "scrolled": false
   },
   "outputs": [],
   "source": [
    "def func():\n",
    "    data = input().strip().replace(\"  \", \" \").split(\" \")\n",
    "    arr = [int(el) for el in data]\n",
    "    p = 0\n",
    "    if len(arr) < 3:\n",
    "        return 0\n",
    "    arr.sort()\n",
    "    j = len(arr) - 1\n",
    "    while j > 1:\n",
    "        a = arr[j]\n",
    "        b = arr[j - 1]\n",
    "        c = arr[j - 2]\n",
    "        if (b + c) > a:\n",
    "            p = a + b + c\n",
    "            return [a, b, c]\n",
    "        j -= 1\n",
    "    return 0"
   ]
  },
  {
   "cell_type": "code",
   "execution_count": 2,
   "metadata": {},
   "outputs": [
    {
     "name": "stdout",
     "output_type": "stream",
     "text": [
      "8 3 8 7 5 6 10 9 3 2\n",
      "[10, 9, 8]\n"
     ]
    }
   ],
   "source": [
    "print(func())"
   ]
  },
  {
   "cell_type": "markdown",
   "metadata": {},
   "source": [
    "### Задание №2\n",
    "Дан массив неотрицательных целых чисел nums. Расположите их в таком порядке, чтобы вместе они образовали максимально возможное число. Замечание: Результат может быть очень большим числом, поэтому представьте его как string, а не integer."
   ]
  },
  {
   "cell_type": "code",
   "execution_count": 3,
   "metadata": {
    "scrolled": false
   },
   "outputs": [],
   "source": [
    "def func():\n",
    "    data = input().strip().replace(\"  \", \" \").split(\" \")\n",
    "    data.sort(reverse=True)\n",
    "    result = \"\"\n",
    "    i = 0\n",
    "    temp = []\n",
    "    while i < len(data):\n",
    "        temp.append(data[i])\n",
    "        symbol = data[i][0]\n",
    "        if i + 1 >= len(data):\n",
    "            result += \"\".join(temp)\n",
    "            break\n",
    "        if symbol != data[i + 1][0]:\n",
    "            temp.sort(reverse=True)\n",
    "            tempValue = temp[-1]\n",
    "            temp.pop(-1)\n",
    "            temp.insert(0, tempValue)\n",
    "            result += \"\".join(temp)\n",
    "            temp = []\n",
    "        i += 1\n",
    "    return result"
   ]
  },
  {
   "cell_type": "code",
   "execution_count": 4,
   "metadata": {},
   "outputs": [
    {
     "name": "stdout",
     "output_type": "stream",
     "text": [
      "10 991 989 98 911 900 909 9 97 979 910 1 0\n",
      "999198998979979119109099001100\n"
     ]
    }
   ],
   "source": [
    "print(func())"
   ]
  },
  {
   "cell_type": "markdown",
   "metadata": {},
   "source": [
    "### Задание №3\n",
    "Дана матрица mat размером m * n, значения целочисленные. Напишите функцию, сортирующую каждую диагональ матрицы по возрастанию и возвращающую получившуюся матрицу."
   ]
  },
  {
   "cell_type": "code",
   "execution_count": 5,
   "metadata": {
    "scrolled": false
   },
   "outputs": [],
   "source": [
    "def printMat(mat):\n",
    "    for line in mat:\n",
    "        out = [str(el) for el in line]\n",
    "        print(\" \".join(out))\n",
    "\n",
    "\n",
    "def func(mat):\n",
    "    m = len(mat)\n",
    "    n = len(mat[0])\n",
    "    result = [[0 for j in range(n)] for i in range(m)]\n",
    "    if m > n:\n",
    "        for i in range(m - 1, -1, -1):\n",
    "            temp = []\n",
    "            j = 0\n",
    "            while (i + j < m) & (j < n):\n",
    "                temp.append(mat[i + j][j])\n",
    "                j += 1\n",
    "            temp.sort()\n",
    "            j = 0\n",
    "            while (i + j < m) & (j < n):\n",
    "                result[i + j][j] = temp[j]\n",
    "                j += 1\n",
    "        for i in range(1, n):\n",
    "            temp = []\n",
    "            j = 0\n",
    "            while (i + j < n) & (j < m):\n",
    "                temp.append(mat[j][i + j])\n",
    "                j += 1\n",
    "            temp.sort()\n",
    "            j = 0\n",
    "            while (i + j < n) & (j < m):\n",
    "                result[j][i + j] = temp[j]\n",
    "                j += 1\n",
    "\n",
    "    else:\n",
    "        for i in range(m - 1, -1, -1):\n",
    "            temp = []\n",
    "            j = 0\n",
    "            while (i + j < m) & (j < m):\n",
    "                temp.append(mat[i + j][j])\n",
    "                j += 1\n",
    "            temp.sort()\n",
    "            j = 0\n",
    "            while (i + j < m) & (j < m):\n",
    "                result[i + j][j] = temp[j]\n",
    "                j += 1\n",
    "        for i in range(1, n):\n",
    "            temp = []\n",
    "            j = 0\n",
    "            while (i + j < n) & (j < m):\n",
    "                temp.append(mat[j][i + j])\n",
    "                j += 1\n",
    "            temp.sort()\n",
    "            j = 0\n",
    "            while (i + j < n) & (j < m):\n",
    "                result[j][i + j] = temp[j]\n",
    "                j += 1\n",
    "    return result"
   ]
  },
  {
   "cell_type": "code",
   "execution_count": 6,
   "metadata": {
    "scrolled": true
   },
   "outputs": [
    {
     "name": "stdout",
     "output_type": "stream",
     "text": [
      "Origin matrix:\n",
      "8 2 3 4\n",
      "5 7 1 0\n",
      "12 3 81 17\n",
      "Sorted matrix:\n",
      "7 1 0 4\n",
      "3 8 2 3\n",
      "12 5 81 17\n"
     ]
    }
   ],
   "source": [
    "a = [[8, 2, 3, 4], [5, 7, 1, 0], [12, 3, 81, 17]]\n",
    "b = [[8, 2, 3, 4], [41, 7, 1, 0], [3, 5, 7, 9], [9, 5, 7, 3], [0, 10, 20, 5]]\n",
    "print(\"Origin matrix:\")\n",
    "printMat(a)\n",
    "print(\"Sorted matrix:\")\n",
    "printMat(func(a))"
   ]
  }
 ],
 "metadata": {
  "kernelspec": {
   "display_name": "Python 3",
   "language": "python",
   "name": "python3"
  },
  "language_info": {
   "codemirror_mode": {
    "name": "ipython",
    "version": 3
   },
   "file_extension": ".py",
   "mimetype": "text/x-python",
   "name": "python",
   "nbconvert_exporter": "python",
   "pygments_lexer": "ipython3",
   "version": "3.8.3"
  }
 },
 "nbformat": 4,
 "nbformat_minor": 5
}
