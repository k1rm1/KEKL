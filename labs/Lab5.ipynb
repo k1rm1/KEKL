{
 "cells": [
  {
   "cell_type": "markdown",
   "metadata": {
    "id": "WPvB9TcMmKA6"
   },
   "source": [
    "# Лабораторная работа №5\n",
    "# Рекурсия. Фракталы."
   ]
  },
  {
   "cell_type": "markdown",
   "metadata": {
    "id": "4clYOyb0mbEv"
   },
   "source": [
    "### Задание:\n",
    "Реализовать генерацию заданного типа фрактала с применением рекурсивных функций.\n",
    "\n",
    "\n",
    "Добавить возможность задания глубины фрактала. \n",
    "\n",
    "\n",
    "Оценить глубину рекурсии. \n",
    "\n",
    "\n",
    "Построить таблицу зависимости времени построения от глубины фрактала."
   ]
  },
  {
   "cell_type": "markdown",
   "metadata": {
    "id": "wDXHbUmMmhRL"
   },
   "source": [
    "### Список фракталов:\n",
    "\n",
    "Кривая Коха\n",
    "| Кривая Гильберта\n",
    "| Кривая Серпинского\n",
    "| Салфетка Серпинского\n",
    "| Ковер Серпинского\n",
    "| Дерево Пифагора "
   ]
  },
  {
   "cell_type": "markdown",
   "metadata": {
    "id": "Wggfn8l7nG72"
   },
   "source": [
    "### Выполнение:"
   ]
  },
  {
   "cell_type": "code",
   "execution_count": 1,
   "metadata": {},
   "outputs": [],
   "source": [
    "import turtle\n",
    "import time\n",
    "import pandas as pd"
   ]
  },
  {
   "cell_type": "markdown",
   "metadata": {},
   "source": [
    "Кривая Коха"
   ]
  },
  {
   "cell_type": "code",
   "execution_count": 2,
   "metadata": {},
   "outputs": [
    {
     "name": "stdout",
     "output_type": "stream",
     "text": [
      "1\n",
      "2\n",
      "3\n",
      "4\n",
      "5\n",
      "Done\n"
     ]
    }
   ],
   "source": [
    "try:\n",
    "    turtle.reset()\n",
    "    t.ht()\n",
    "except:\n",
    "    pass\n",
    "rules = {\"+\" : \"+\", \"-\" : \"-\", \"F\" : \"F-F++F-F\"}\n",
    "\n",
    "\n",
    "def koh_line(n, axiom = \"F\"):\n",
    "    if n == 0:\n",
    "        return axiom\n",
    "    else:\n",
    "        temp = \"\"\n",
    "        for i in range(len(axiom)):\n",
    "            temp += rules[axiom[i]]\n",
    "        return koh_line(n - 1, temp)   \n",
    "\n",
    "    \n",
    "def draw_koh_line(n, size, t):\n",
    "    result = koh_line(n)\n",
    "    for el in result:\n",
    "        if el == \"+\":\n",
    "            t.rt(60)\n",
    "        elif el == \"-\":\n",
    "            t.lt(60)\n",
    "        else:\n",
    "            t.fd(size)\n",
    "    \n",
    "\n",
    "t = turtle.Turtle()\n",
    "t.ht()\n",
    "turtle.tracer(0)\n",
    "result = []\n",
    "size = 250\n",
    "for i in range(1, 6):\n",
    "    t.clear()\n",
    "    print(i)\n",
    "    temp = []\n",
    "    temp.append(i)\n",
    "    t1 = time.time()\n",
    "    t.up()\n",
    "    t.setpos(-300, 0)\n",
    "    t.down()\n",
    "    draw_koh_line(i, size // (i * 9), t)\n",
    "    t2 = time.time()\n",
    "    turtle.update()\n",
    "    time.sleep(1)\n",
    "    temp.append(round((t2 - t1) * 1000))\n",
    "    result.append(temp)\n",
    "\n",
    "print(\"Done\")\n",
    "turtle.done()"
   ]
  },
  {
   "cell_type": "code",
   "execution_count": 3,
   "metadata": {},
   "outputs": [
    {
     "data": {
      "text/html": [
       "<div>\n",
       "<style scoped>\n",
       "    .dataframe tbody tr th:only-of-type {\n",
       "        vertical-align: middle;\n",
       "    }\n",
       "\n",
       "    .dataframe tbody tr th {\n",
       "        vertical-align: top;\n",
       "    }\n",
       "\n",
       "    .dataframe thead th {\n",
       "        text-align: right;\n",
       "    }\n",
       "</style>\n",
       "<table border=\"1\" class=\"dataframe\">\n",
       "  <thead>\n",
       "    <tr style=\"text-align: right;\">\n",
       "      <th></th>\n",
       "      <th>Глубина</th>\n",
       "      <th>Время в мс</th>\n",
       "    </tr>\n",
       "  </thead>\n",
       "  <tbody>\n",
       "    <tr>\n",
       "      <th>0</th>\n",
       "      <td>1</td>\n",
       "      <td>0</td>\n",
       "    </tr>\n",
       "    <tr>\n",
       "      <th>1</th>\n",
       "      <td>2</td>\n",
       "      <td>1</td>\n",
       "    </tr>\n",
       "    <tr>\n",
       "      <th>2</th>\n",
       "      <td>3</td>\n",
       "      <td>1</td>\n",
       "    </tr>\n",
       "    <tr>\n",
       "      <th>3</th>\n",
       "      <td>4</td>\n",
       "      <td>4</td>\n",
       "    </tr>\n",
       "    <tr>\n",
       "      <th>4</th>\n",
       "      <td>5</td>\n",
       "      <td>14</td>\n",
       "    </tr>\n",
       "  </tbody>\n",
       "</table>\n",
       "</div>"
      ],
      "text/plain": [
       "   Глубина  Время в мс\n",
       "0        1           0\n",
       "1        2           1\n",
       "2        3           1\n",
       "3        4           4\n",
       "4        5          14"
      ]
     },
     "execution_count": 3,
     "metadata": {},
     "output_type": "execute_result"
    }
   ],
   "source": [
    "pd.DataFrame(result, columns = [\"Глубина\", \"Время в мс\"])"
   ]
  },
  {
   "cell_type": "markdown",
   "metadata": {},
   "source": [
    "Кривая Гильберта"
   ]
  },
  {
   "cell_type": "code",
   "execution_count": 4,
   "metadata": {},
   "outputs": [
    {
     "name": "stdout",
     "output_type": "stream",
     "text": [
      "1\n",
      "2\n",
      "3\n",
      "4\n",
      "5\n",
      "Done\n"
     ]
    }
   ],
   "source": [
    "try:\n",
    "    turtle.reset()\n",
    "    t.ht()\n",
    "except:\n",
    "    pass\n",
    "\n",
    "rules = {\"+\" : \"+\", \"-\" : \"-\", \"A\" : \"-BF+AFA+FB-\", \"B\" : \"+AF-BFB-FA+\", \"F\": \"F\"}\n",
    "def gil_line(n, axiom = \"A\"):\n",
    "    if n == 0:\n",
    "        return axiom\n",
    "    else:\n",
    "        temp = \"\"\n",
    "        for i in range(len(axiom)):\n",
    "            temp += rules[axiom[i]]\n",
    "        return gil_line(n - 1, temp)\n",
    "            \n",
    "def draw_gil_line(n, size, t):\n",
    "    result = gil_line(n)\n",
    "    for el in result:\n",
    "        if el == \"+\":\n",
    "            t.rt(90)\n",
    "        elif el == \"-\":\n",
    "            t.lt(90)\n",
    "        elif el == \"F\":\n",
    "            t.fd(size)\n",
    "        else:\n",
    "            pass\n",
    "\n",
    "size = 300\n",
    "t = turtle.Turtle()\n",
    "turtle.tracer(0)\n",
    "t.speed(10000000)\n",
    "t.ht()\n",
    "result = []\n",
    "for i in range(1, 6):\n",
    "    t.clear()\n",
    "    print(i)\n",
    "    temp = []\n",
    "    temp.append(i)\n",
    "    t1 = time.time()\n",
    "    t.up()\n",
    "    t.setpos(-300, -300)\n",
    "    t.down()\n",
    "    draw_gil_line(i, size // ((i * i) + 1), t)\n",
    "    t2 = time.time()\n",
    "    turtle.update()\n",
    "    time.sleep(1)\n",
    "    temp.append(round((t2 - t1) * 1000))\n",
    "    result.append(temp)\n",
    "\n",
    "    \n",
    "print(\"Done\")\n",
    "turtle.done()"
   ]
  },
  {
   "cell_type": "code",
   "execution_count": 5,
   "metadata": {},
   "outputs": [
    {
     "data": {
      "text/html": [
       "<div>\n",
       "<style scoped>\n",
       "    .dataframe tbody tr th:only-of-type {\n",
       "        vertical-align: middle;\n",
       "    }\n",
       "\n",
       "    .dataframe tbody tr th {\n",
       "        vertical-align: top;\n",
       "    }\n",
       "\n",
       "    .dataframe thead th {\n",
       "        text-align: right;\n",
       "    }\n",
       "</style>\n",
       "<table border=\"1\" class=\"dataframe\">\n",
       "  <thead>\n",
       "    <tr style=\"text-align: right;\">\n",
       "      <th></th>\n",
       "      <th>Глубина</th>\n",
       "      <th>Время в мс</th>\n",
       "    </tr>\n",
       "  </thead>\n",
       "  <tbody>\n",
       "    <tr>\n",
       "      <th>0</th>\n",
       "      <td>1</td>\n",
       "      <td>0</td>\n",
       "    </tr>\n",
       "    <tr>\n",
       "      <th>1</th>\n",
       "      <td>2</td>\n",
       "      <td>0</td>\n",
       "    </tr>\n",
       "    <tr>\n",
       "      <th>2</th>\n",
       "      <td>3</td>\n",
       "      <td>1</td>\n",
       "    </tr>\n",
       "    <tr>\n",
       "      <th>3</th>\n",
       "      <td>4</td>\n",
       "      <td>4</td>\n",
       "    </tr>\n",
       "    <tr>\n",
       "      <th>4</th>\n",
       "      <td>5</td>\n",
       "      <td>13</td>\n",
       "    </tr>\n",
       "  </tbody>\n",
       "</table>\n",
       "</div>"
      ],
      "text/plain": [
       "   Глубина  Время в мс\n",
       "0        1           0\n",
       "1        2           0\n",
       "2        3           1\n",
       "3        4           4\n",
       "4        5          13"
      ]
     },
     "execution_count": 5,
     "metadata": {},
     "output_type": "execute_result"
    }
   ],
   "source": [
    "pd.DataFrame(result, columns = [\"Глубина\", \"Время в мс\"])"
   ]
  },
  {
   "cell_type": "markdown",
   "metadata": {},
   "source": [
    "Кривая Серпинского"
   ]
  },
  {
   "cell_type": "code",
   "execution_count": 6,
   "metadata": {},
   "outputs": [
    {
     "name": "stdout",
     "output_type": "stream",
     "text": [
      "1\n",
      "2\n",
      "3\n",
      "4\n",
      "5\n",
      "Done\n"
     ]
    }
   ],
   "source": [
    "try:\n",
    "    turtle.reset()\n",
    "    t.ht()\n",
    "except:\n",
    "    pass\n",
    "\n",
    "#rules = {\"+\" : \"+\", \"-\" : \"-\", \"F\" : \"F\", \"G\" : \"G\", \"X\" : \"XF-F-F*F*F-F-F*F*F-F-F*F*F-F-F*F\", \"*\" : \"*\", \"/\" : \"/\"}\n",
    "rules = {\"+\" : \"+\", \"-\" : \"-\", \"F\" : \"F\", \"X\" : \"XF+F-F+XF-F-XF+F-F+X\"}\n",
    "def serp_line(n, axiom = \"F-XF-F-XF\"):\n",
    "    if n == 0:\n",
    "        return axiom\n",
    "    else:\n",
    "        temp = \"\"\n",
    "        for i in range(len(axiom)):\n",
    "            temp += rules[axiom[i]]\n",
    "        return serp_line(n - 1, temp)\n",
    "            \n",
    "def draw_serp_line(n, size, t):\n",
    "    result = serp_line(n)\n",
    "    for el in result:\n",
    "        if el == \"+\":\n",
    "            t.rt(90)\n",
    "        elif el == \"-\":\n",
    "            t.lt(90)\n",
    "        elif el == \"F\":\n",
    "            t.fd(size)\n",
    "size = 8\n",
    "t = turtle.Turtle()\n",
    "turtle.tracer(0)\n",
    "t.speed(10000000)\n",
    "t.ht()\n",
    "result = []\n",
    "for i in range(1, 6):\n",
    "    t.clear()\n",
    "    print(i)\n",
    "    temp = []\n",
    "    temp.append(i)\n",
    "    t1 = time.time()\n",
    "    t.up()\n",
    "    t.setpos(0, 0)\n",
    "    t.down()\n",
    "    draw_serp_line(i, size - i, t)\n",
    "    t2 = time.time()\n",
    "    turtle.update()\n",
    "    time.sleep(1)\n",
    "    temp.append(round((t2 - t1) * 1000))\n",
    "    result.append(temp)\n",
    "\n",
    "    \n",
    "print(\"Done\")\n",
    "turtle.done()"
   ]
  },
  {
   "cell_type": "code",
   "execution_count": 7,
   "metadata": {},
   "outputs": [
    {
     "data": {
      "text/html": [
       "<div>\n",
       "<style scoped>\n",
       "    .dataframe tbody tr th:only-of-type {\n",
       "        vertical-align: middle;\n",
       "    }\n",
       "\n",
       "    .dataframe tbody tr th {\n",
       "        vertical-align: top;\n",
       "    }\n",
       "\n",
       "    .dataframe thead th {\n",
       "        text-align: right;\n",
       "    }\n",
       "</style>\n",
       "<table border=\"1\" class=\"dataframe\">\n",
       "  <thead>\n",
       "    <tr style=\"text-align: right;\">\n",
       "      <th></th>\n",
       "      <th>Глубина</th>\n",
       "      <th>Время в мс</th>\n",
       "    </tr>\n",
       "  </thead>\n",
       "  <tbody>\n",
       "    <tr>\n",
       "      <th>0</th>\n",
       "      <td>1</td>\n",
       "      <td>3</td>\n",
       "    </tr>\n",
       "    <tr>\n",
       "      <th>1</th>\n",
       "      <td>2</td>\n",
       "      <td>1</td>\n",
       "    </tr>\n",
       "    <tr>\n",
       "      <th>2</th>\n",
       "      <td>3</td>\n",
       "      <td>27</td>\n",
       "    </tr>\n",
       "    <tr>\n",
       "      <th>3</th>\n",
       "      <td>4</td>\n",
       "      <td>16</td>\n",
       "    </tr>\n",
       "    <tr>\n",
       "      <th>4</th>\n",
       "      <td>5</td>\n",
       "      <td>65</td>\n",
       "    </tr>\n",
       "  </tbody>\n",
       "</table>\n",
       "</div>"
      ],
      "text/plain": [
       "   Глубина  Время в мс\n",
       "0        1           3\n",
       "1        2           1\n",
       "2        3          27\n",
       "3        4          16\n",
       "4        5          65"
      ]
     },
     "execution_count": 7,
     "metadata": {},
     "output_type": "execute_result"
    }
   ],
   "source": [
    "pd.DataFrame(result, columns = [\"Глубина\", \"Время в мс\"])"
   ]
  },
  {
   "cell_type": "markdown",
   "metadata": {},
   "source": [
    "Салфетка Серпинского"
   ]
  },
  {
   "cell_type": "code",
   "execution_count": 8,
   "metadata": {},
   "outputs": [
    {
     "name": "stdout",
     "output_type": "stream",
     "text": [
      "1\n",
      "2\n",
      "3\n",
      "4\n",
      "5\n",
      "Done\n"
     ]
    }
   ],
   "source": [
    "try:\n",
    "    turtle.reset()\n",
    "    t.ht()\n",
    "except:\n",
    "    pass\n",
    "\n",
    "rules = {\"+\" : \"+\", \"-\" : \"-\", \"F\" : \"FF\", \"X\" : \"++FXF--FXF--FXF++\"}\n",
    "def serp_triangle(n, axiom = \"FXF++FF++FF\"):\n",
    "    if n == 0:\n",
    "        return axiom\n",
    "    else:\n",
    "        temp = \"\"\n",
    "        for i in range(len(axiom)):\n",
    "            temp += rules[axiom[i]]\n",
    "        return serp_line(n - 1, temp)\n",
    "            \n",
    "def draw_serp_triangle(n, size, t):\n",
    "    result = serp_triangle(n)\n",
    "    for el in result:\n",
    "        if el == \"+\":\n",
    "            t.rt(60)\n",
    "        elif el == \"-\":\n",
    "            t.lt(60)\n",
    "        elif el == \"F\":\n",
    "            t.fd(size)\n",
    "size = 30\n",
    "t = turtle.Turtle()\n",
    "turtle.tracer(0)\n",
    "t.speed(10000000)\n",
    "t.ht()\n",
    "result = []\n",
    "t.left(-180)\n",
    "for i in range(1, 6):\n",
    "    t.clear()\n",
    "    print(i)\n",
    "    temp = []\n",
    "    temp.append(i)\n",
    "    t1 = time.time()\n",
    "    t.up()\n",
    "    t.setpos(0, 0)\n",
    "    t.down()\n",
    "    draw_serp_triangle(i, size - (i * i), t)\n",
    "    t2 = time.time()\n",
    "    turtle.update()\n",
    "    time.sleep(1)\n",
    "    temp.append(round((t2 - t1) * 1000))\n",
    "    result.append(temp)\n",
    "    \n",
    "print(\"Done\")\n",
    "turtle.done()"
   ]
  },
  {
   "cell_type": "code",
   "execution_count": 9,
   "metadata": {},
   "outputs": [
    {
     "data": {
      "text/html": [
       "<div>\n",
       "<style scoped>\n",
       "    .dataframe tbody tr th:only-of-type {\n",
       "        vertical-align: middle;\n",
       "    }\n",
       "\n",
       "    .dataframe tbody tr th {\n",
       "        vertical-align: top;\n",
       "    }\n",
       "\n",
       "    .dataframe thead th {\n",
       "        text-align: right;\n",
       "    }\n",
       "</style>\n",
       "<table border=\"1\" class=\"dataframe\">\n",
       "  <thead>\n",
       "    <tr style=\"text-align: right;\">\n",
       "      <th></th>\n",
       "      <th>Глубина</th>\n",
       "      <th>Время в мс</th>\n",
       "    </tr>\n",
       "  </thead>\n",
       "  <tbody>\n",
       "    <tr>\n",
       "      <th>0</th>\n",
       "      <td>1</td>\n",
       "      <td>1</td>\n",
       "    </tr>\n",
       "    <tr>\n",
       "      <th>1</th>\n",
       "      <td>2</td>\n",
       "      <td>1</td>\n",
       "    </tr>\n",
       "    <tr>\n",
       "      <th>2</th>\n",
       "      <td>3</td>\n",
       "      <td>3</td>\n",
       "    </tr>\n",
       "    <tr>\n",
       "      <th>3</th>\n",
       "      <td>4</td>\n",
       "      <td>7</td>\n",
       "    </tr>\n",
       "    <tr>\n",
       "      <th>4</th>\n",
       "      <td>5</td>\n",
       "      <td>19</td>\n",
       "    </tr>\n",
       "  </tbody>\n",
       "</table>\n",
       "</div>"
      ],
      "text/plain": [
       "   Глубина  Время в мс\n",
       "0        1           1\n",
       "1        2           1\n",
       "2        3           3\n",
       "3        4           7\n",
       "4        5          19"
      ]
     },
     "execution_count": 9,
     "metadata": {},
     "output_type": "execute_result"
    }
   ],
   "source": [
    "pd.DataFrame(result, columns = [\"Глубина\", \"Время в мс\"])"
   ]
  },
  {
   "cell_type": "markdown",
   "metadata": {},
   "source": [
    "Ковер Серпинского"
   ]
  },
  {
   "cell_type": "code",
   "execution_count": 10,
   "metadata": {},
   "outputs": [
    {
     "name": "stdout",
     "output_type": "stream",
     "text": [
      "1\n",
      "2\n",
      "3\n",
      "4\n",
      "5\n",
      "Done\n"
     ]
    }
   ],
   "source": [
    "try:\n",
    "    turtle.reset()\n",
    "    t.ht()\n",
    "except:\n",
    "    pass\n",
    "\n",
    "rules = {\"+\" : \"+\", \"-\" : \"-\", \"F\" : \"FFF\", \"X\" : \"XFXFX-F+X-F+X--F--X--F--X+F-X+F-\"}\n",
    "def serp_carpet(n, axiom = \"X\"):\n",
    "    if n == 0:\n",
    "        return axiom\n",
    "    else:\n",
    "        temp = \"\"\n",
    "        for i in range(len(axiom)):\n",
    "            temp += rules[axiom[i]]\n",
    "        return serp_carpet(n - 1, temp)\n",
    "            \n",
    "def draw_serp_carpet(n, size, t):\n",
    "    result = serp_carpet(n)\n",
    "    for el in result:\n",
    "        if el == \"+\":\n",
    "            t.rt(90)\n",
    "        elif el == \"-\":\n",
    "            t.lt(90)\n",
    "        elif el == \"F\":\n",
    "            t.fd(size)\n",
    "size = 27\n",
    "t = turtle.Turtle()\n",
    "#t.pensize(size)\n",
    "turtle.tracer(0)\n",
    "t.speed(10000000)\n",
    "t.ht()\n",
    "result = []\n",
    "turtle.update()\n",
    "for i in range(1, 6):\n",
    "    t.clear()\n",
    "    print(i)\n",
    "    temp = []\n",
    "    temp.append(i)\n",
    "    t1 = time.time()\n",
    "    t.up()\n",
    "    t.setpos(-300, -300)\n",
    "    t.down()\n",
    "    t.pensize(size - (i * i))\n",
    "    draw_serp_carpet(i, size - (i * i), t)\n",
    "    t2 = time.time()\n",
    "    turtle.update()\n",
    "    time.sleep(1)\n",
    "    temp.append(round((t2 - t1) * 1000))\n",
    "    result.append(temp)\n",
    "\n",
    "print(\"Done\")\n",
    "turtle.done()"
   ]
  },
  {
   "cell_type": "code",
   "execution_count": 11,
   "metadata": {},
   "outputs": [
    {
     "data": {
      "text/html": [
       "<div>\n",
       "<style scoped>\n",
       "    .dataframe tbody tr th:only-of-type {\n",
       "        vertical-align: middle;\n",
       "    }\n",
       "\n",
       "    .dataframe tbody tr th {\n",
       "        vertical-align: top;\n",
       "    }\n",
       "\n",
       "    .dataframe thead th {\n",
       "        text-align: right;\n",
       "    }\n",
       "</style>\n",
       "<table border=\"1\" class=\"dataframe\">\n",
       "  <thead>\n",
       "    <tr style=\"text-align: right;\">\n",
       "      <th></th>\n",
       "      <th>Глубина</th>\n",
       "      <th>Время в мс</th>\n",
       "    </tr>\n",
       "  </thead>\n",
       "  <tbody>\n",
       "    <tr>\n",
       "      <th>0</th>\n",
       "      <td>1</td>\n",
       "      <td>0</td>\n",
       "    </tr>\n",
       "    <tr>\n",
       "      <th>1</th>\n",
       "      <td>2</td>\n",
       "      <td>2</td>\n",
       "    </tr>\n",
       "    <tr>\n",
       "      <th>2</th>\n",
       "      <td>3</td>\n",
       "      <td>11</td>\n",
       "    </tr>\n",
       "    <tr>\n",
       "      <th>3</th>\n",
       "      <td>4</td>\n",
       "      <td>83</td>\n",
       "    </tr>\n",
       "    <tr>\n",
       "      <th>4</th>\n",
       "      <td>5</td>\n",
       "      <td>781</td>\n",
       "    </tr>\n",
       "  </tbody>\n",
       "</table>\n",
       "</div>"
      ],
      "text/plain": [
       "   Глубина  Время в мс\n",
       "0        1           0\n",
       "1        2           2\n",
       "2        3          11\n",
       "3        4          83\n",
       "4        5         781"
      ]
     },
     "execution_count": 11,
     "metadata": {},
     "output_type": "execute_result"
    }
   ],
   "source": [
    "pd.DataFrame(result, columns = [\"Глубина\", \"Время в мс\"])"
   ]
  },
  {
   "cell_type": "markdown",
   "metadata": {},
   "source": [
    "Дерево Пифагора"
   ]
  },
  {
   "cell_type": "code",
   "execution_count": 14,
   "metadata": {},
   "outputs": [
    {
     "name": "stdout",
     "output_type": "stream",
     "text": [
      "1\n",
      "2\n",
      "3\n",
      "4\n",
      "5\n",
      "Done\n"
     ]
    }
   ],
   "source": [
    "try:\n",
    "    turtle.reset()\n",
    "    t.ht()\n",
    "except:\n",
    "    pass\n",
    "\n",
    "rules = {\"[\" : \"[\", \"]\" : \"]\", \"0\" : \"1[0]0\", \"1\" : \"11\"}\n",
    "def pif_tree(n, axiom = \"0\"):\n",
    "    if n == 0:\n",
    "        return axiom\n",
    "    else:\n",
    "        temp = \"\"\n",
    "        for i in range(len(axiom)):\n",
    "            temp += rules[axiom[i]]\n",
    "        return pif_tree(n - 1, temp)\n",
    "            \n",
    "def draw_pif_tree(n, size, t):\n",
    "    result = pif_tree(n)\n",
    "    stack = list()\n",
    "    for el in result:\n",
    "        if el == \"[\":\n",
    "            stack.append(t.pos())\n",
    "            stack.append(t.heading())\n",
    "            t.lt(45)\n",
    "        elif el == \"]\":\n",
    "            t.up()\n",
    "            t.setheading(stack.pop())\n",
    "            t.setpos(stack.pop())\n",
    "            t.down()\n",
    "            t.rt(45)\n",
    "        else:\n",
    "            t.fd(size)\n",
    "size = 10\n",
    "t = turtle.Turtle()\n",
    "turtle.tracer(0)\n",
    "t.speed(10000000)\n",
    "t.ht()\n",
    "result = []\n",
    "turtle.update()\n",
    "for i in range(1, 6):\n",
    "    t.clear()\n",
    "    t.setheading(90)\n",
    "    print(i)\n",
    "    temp = []\n",
    "    temp.append(i)\n",
    "    t1 = time.time()\n",
    "    t.up()\n",
    "    t.setpos(0, -300)\n",
    "    t.down()\n",
    "    draw_pif_tree(i, size, t)\n",
    "    t2 = time.time()\n",
    "    turtle.update()\n",
    "    time.sleep(1)\n",
    "    temp.append(round((t2 - t1) * 1000))\n",
    "    result.append(temp)\n",
    "\n",
    "print(\"Done\")\n",
    "turtle.done()"
   ]
  },
  {
   "cell_type": "code",
   "execution_count": 15,
   "metadata": {},
   "outputs": [
    {
     "data": {
      "text/html": [
       "<div>\n",
       "<style scoped>\n",
       "    .dataframe tbody tr th:only-of-type {\n",
       "        vertical-align: middle;\n",
       "    }\n",
       "\n",
       "    .dataframe tbody tr th {\n",
       "        vertical-align: top;\n",
       "    }\n",
       "\n",
       "    .dataframe thead th {\n",
       "        text-align: right;\n",
       "    }\n",
       "</style>\n",
       "<table border=\"1\" class=\"dataframe\">\n",
       "  <thead>\n",
       "    <tr style=\"text-align: right;\">\n",
       "      <th></th>\n",
       "      <th>Глубина</th>\n",
       "      <th>Время в мс</th>\n",
       "    </tr>\n",
       "  </thead>\n",
       "  <tbody>\n",
       "    <tr>\n",
       "      <th>0</th>\n",
       "      <td>1</td>\n",
       "      <td>0</td>\n",
       "    </tr>\n",
       "    <tr>\n",
       "      <th>1</th>\n",
       "      <td>2</td>\n",
       "      <td>1</td>\n",
       "    </tr>\n",
       "    <tr>\n",
       "      <th>2</th>\n",
       "      <td>3</td>\n",
       "      <td>2</td>\n",
       "    </tr>\n",
       "    <tr>\n",
       "      <th>3</th>\n",
       "      <td>4</td>\n",
       "      <td>2</td>\n",
       "    </tr>\n",
       "    <tr>\n",
       "      <th>4</th>\n",
       "      <td>5</td>\n",
       "      <td>3</td>\n",
       "    </tr>\n",
       "  </tbody>\n",
       "</table>\n",
       "</div>"
      ],
      "text/plain": [
       "   Глубина  Время в мс\n",
       "0        1           0\n",
       "1        2           1\n",
       "2        3           2\n",
       "3        4           2\n",
       "4        5           3"
      ]
     },
     "execution_count": 15,
     "metadata": {},
     "output_type": "execute_result"
    }
   ],
   "source": [
    "pd.DataFrame(result, columns = [\"Глубина\", \"Время в мс\"])"
   ]
  },
  {
   "cell_type": "markdown",
   "metadata": {
    "id": "diOb-K7LnO5a"
   },
   "source": [
    "### Вывод"
   ]
  },
  {
   "cell_type": "code",
   "execution_count": null,
   "metadata": {},
   "outputs": [],
   "source": []
  }
 ],
 "metadata": {
  "colab": {
   "collapsed_sections": [],
   "name": "Lab5.ipynb",
   "provenance": []
  },
  "kernelspec": {
   "display_name": "Python 3",
   "language": "python",
   "name": "python3"
  },
  "language_info": {
   "codemirror_mode": {
    "name": "ipython",
    "version": 3
   },
   "file_extension": ".py",
   "mimetype": "text/x-python",
   "name": "python",
   "nbconvert_exporter": "python",
   "pygments_lexer": "ipython3",
   "version": "3.8.3"
  }
 },
 "nbformat": 4,
 "nbformat_minor": 1
}
